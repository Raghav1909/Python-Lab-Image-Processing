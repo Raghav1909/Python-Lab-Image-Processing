{
 "cells": [
  {
   "cell_type": "code",
   "execution_count": 4,
   "metadata": {},
   "outputs": [],
   "source": [
    "import cv2\n",
    "import numpy as np"
   ]
  },
  {
   "cell_type": "code",
   "execution_count": 5,
   "metadata": {},
   "outputs": [],
   "source": [
    "img1 = np.zeros((400,600), dtype = 'uint8')\n",
    "cv2.rectangle(img1, (50,50), (250,250), 255, -1)\n",
    "\n",
    "img2 = np.zeros((400,600), dtype = 'uint8')\n",
    "cv2.rectangle(img2, (50,50), (550,350), 255, -1)\n",
    "\n",
    "cv2.imshow('Image 1', img1)\n",
    "cv2.imshow('Image 2', img2)\n",
    "\n",
    "cv2.imwrite('shape1.jpg', img1)\n",
    "cv2.imwrite('shape2.jpg', img2)\n",
    "\n",
    "cv2.waitKey(0)\n",
    "cv2.destroyAllWindows()"
   ]
  },
  {
   "cell_type": "code",
   "execution_count": 6,
   "metadata": {},
   "outputs": [],
   "source": [
    "destAND = cv2.bitwise_and(img1, img2)\n",
    "cv2.imshow('Bitswise AND', destAND)\n",
    "cv2.imwrite('bitwise_and.jpg', destAND)\n",
    "cv2.waitKey(0)\n",
    "cv2.destroyAllWindows()"
   ]
  },
  {
   "cell_type": "code",
   "execution_count": 7,
   "metadata": {},
   "outputs": [],
   "source": [
    "destOR = cv2.bitwise_or(img1, img2)\n",
    "cv2.imshow('Bitswise OR', destOR)\n",
    "cv2.imwrite('bitwise_or.jpg', destOR)\n",
    "cv2.waitKey(0)\n",
    "cv2.destroyAllWindows()"
   ]
  },
  {
   "cell_type": "code",
   "execution_count": 12,
   "metadata": {},
   "outputs": [],
   "source": [
    "destXOR = cv2.bitwise_xor(img1, img2)\n",
    "cv2.imshow('Bitswise XOR', destXOR)\n",
    "cv2.imwrite('bitwise_xor.jpg', destXOR)\n",
    "cv2.waitKey(0)\n",
    "cv2.destroyAllWindows()"
   ]
  },
  {
   "cell_type": "code",
   "execution_count": 15,
   "metadata": {},
   "outputs": [],
   "source": [
    "destNOT = cv2.bitwise_not(img1)\n",
    "cv2.imshow('Bitswise NOT', destNOT)\n",
    "cv2.imwrite('bitwise_not.jpg', destNOT)\n",
    "cv2.waitKey(0)\n",
    "cv2.destroyAllWindows()"
   ]
  }
 ],
 "metadata": {
  "kernelspec": {
   "display_name": "pespy",
   "language": "python",
   "name": "python3"
  },
  "language_info": {
   "codemirror_mode": {
    "name": "ipython",
    "version": 3
   },
   "file_extension": ".py",
   "mimetype": "text/x-python",
   "name": "python",
   "nbconvert_exporter": "python",
   "pygments_lexer": "ipython3",
   "version": "3.11.1"
  },
  "orig_nbformat": 4
 },
 "nbformat": 4,
 "nbformat_minor": 2
}
