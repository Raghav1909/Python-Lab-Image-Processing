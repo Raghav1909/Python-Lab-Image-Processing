{
 "cells": [
  {
   "cell_type": "code",
   "execution_count": 2,
   "metadata": {},
   "outputs": [],
   "source": [
    "import cv2"
   ]
  },
  {
   "cell_type": "code",
   "execution_count": 3,
   "metadata": {},
   "outputs": [],
   "source": [
    "img = cv2.imread('image.jpg')\n",
    "cv2.imshow('Original Image', img)\n",
    "cv2.waitKey(0)\n",
    "cv2.destroyAllWindows()"
   ]
  },
  {
   "cell_type": "code",
   "execution_count": 4,
   "metadata": {},
   "outputs": [],
   "source": [
    "# Upscale\n",
    "scale_percent = 150 # percent of original size\n",
    "width = int(img.shape[1] * scale_percent / 100)\n",
    "height = int(img.shape[0] * scale_percent / 100)\n",
    "new_size = (width, height)\n",
    "upscaled_img = cv2.resize(img, new_size, interpolation = cv2.INTER_AREA)\n",
    "cv2.imshow('Upscaled Image', upscaled_img)\n",
    "cv2.imwrite('upscaled_image.jpg', upscaled_img)\n",
    "cv2.waitKey(0)\n",
    "cv2.destroyAllWindows()"
   ]
  },
  {
   "cell_type": "code",
   "execution_count": 5,
   "metadata": {},
   "outputs": [],
   "source": [
    "# Downscale\n",
    "scale_percent = 50 # percent of original size\n",
    "width = int(img.shape[1] * scale_percent / 100)\n",
    "height = int(img.shape[0] * scale_percent / 100)\n",
    "new_size = (width, height)\n",
    "downscaled_img = cv2.resize(img, new_size, interpolation = cv2.INTER_AREA)\n",
    "cv2.imshow('Downscaled Image', downscaled_img)\n",
    "cv2.imwrite('downscaled_image.jpg', downscaled_img)\n",
    "cv2.waitKey(0)\n",
    "cv2.destroyAllWindows()"
   ]
  },
  {
   "cell_type": "code",
   "execution_count": 6,
   "metadata": {},
   "outputs": [],
   "source": [
    "# Resize to specific width\n",
    "width = 300\n",
    "height = img.shape[0]\n",
    "new_size = (width, height)\n",
    "resized_img = cv2.resize(img, new_size, interpolation = cv2.INTER_AREA)\n",
    "cv2.imshow('Width Resized Image', resized_img)\n",
    "cv2.imwrite('width_resized_image.jpg', resized_img)\n",
    "cv2.waitKey(0)\n",
    "cv2.destroyAllWindows()"
   ]
  },
  {
   "cell_type": "code",
   "execution_count": 7,
   "metadata": {},
   "outputs": [],
   "source": [
    "# Resize to specific height\n",
    "width = img.shape[1]\n",
    "height = 300\n",
    "new_size = (width, height)\n",
    "resized_img = cv2.resize(img, new_size, interpolation = cv2.INTER_AREA)\n",
    "cv2.imshow('Height Resized Image', resized_img)\n",
    "cv2.imwrite('height_resized_image.jpg', resized_img)\n",
    "cv2.waitKey(0)\n",
    "cv2.destroyAllWindows()"
   ]
  },
  {
   "cell_type": "code",
   "execution_count": 8,
   "metadata": {},
   "outputs": [],
   "source": [
    "# Resize to specific width and height\n",
    "width = 300\n",
    "height = 300\n",
    "new_size = (width, height)\n",
    "resized_img = cv2.resize(img, new_size, interpolation = cv2.INTER_AREA)\n",
    "cv2.imshow('Width and Height Resized Image', resized_img)\n",
    "cv2.imwrite('width_height_resized_image.jpg', resized_img)\n",
    "cv2.waitKey(0)\n",
    "cv2.destroyAllWindows()"
   ]
  }
 ],
 "metadata": {
  "kernelspec": {
   "display_name": "pespy",
   "language": "python",
   "name": "python3"
  },
  "language_info": {
   "codemirror_mode": {
    "name": "ipython",
    "version": 3
   },
   "file_extension": ".py",
   "mimetype": "text/x-python",
   "name": "python",
   "nbconvert_exporter": "python",
   "pygments_lexer": "ipython3",
   "version": "3.11.1"
  },
  "orig_nbformat": 4
 },
 "nbformat": 4,
 "nbformat_minor": 2
}
