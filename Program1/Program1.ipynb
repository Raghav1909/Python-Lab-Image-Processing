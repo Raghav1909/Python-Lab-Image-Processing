{
 "cells": [
  {
   "cell_type": "code",
   "execution_count": 1,
   "metadata": {},
   "outputs": [],
   "source": [
    "import cv2"
   ]
  },
  {
   "cell_type": "code",
   "execution_count": 2,
   "metadata": {},
   "outputs": [
    {
     "name": "stdout",
     "output_type": "stream",
     "text": [
      "(250, 500, 3) (250, 500, 3)\n"
     ]
    }
   ],
   "source": [
    "img1 = cv2.imread(\"img1.jpg\")\n",
    "img2 = cv2.imread(\"img2.jpg\")\n",
    "print(img1.shape, img2.shape)\n",
    "cv2.imshow(\"Image 1\",img1)\n",
    "cv2.imshow(\"Image 2\" ,img2)\n",
    "cv2.waitKey(0)\n",
    "cv2.destroyAllWindows()"
   ]
  },
  {
   "cell_type": "code",
   "execution_count": 3,
   "metadata": {},
   "outputs": [],
   "source": [
    "imgResized = cv2.resize(img2, (img1.shape[1], img1.shape[0]), interpolation = cv2.INTER_LINEAR)\n",
    "cv2.imshow('Resized Image', imgResized)\n",
    "cv2.waitKey(0)\n",
    "cv2.destroyAllWindows()"
   ]
  },
  {
   "cell_type": "code",
   "execution_count": 4,
   "metadata": {},
   "outputs": [],
   "source": [
    "addImg = cv2.add(imgResized, img1)\n",
    "cv2.imwrite('addedImg.jpg', addImg)\n",
    "cv2.imshow('Added Image', addImg)\n",
    "cv2.waitKey(0)\n",
    "cv2.destroyAllWindows()"
   ]
  },
  {
   "cell_type": "code",
   "execution_count": 5,
   "metadata": {},
   "outputs": [],
   "source": [
    "addImg = cv2.subtract(imgResized, img1)\n",
    "cv2.imwrite('subtractedImg.jpg', addImg)\n",
    "cv2.imshow('Subtracted Image', addImg)\n",
    "cv2.waitKey(0)\n",
    "cv2.destroyAllWindows()"
   ]
  },
  {
   "attachments": {},
   "cell_type": "markdown",
   "metadata": {},
   "source": []
  }
 ],
 "metadata": {
  "kernelspec": {
   "display_name": "Python 3",
   "language": "python",
   "name": "python3"
  },
  "language_info": {
   "codemirror_mode": {
    "name": "ipython",
    "version": 3
   },
   "file_extension": ".py",
   "mimetype": "text/x-python",
   "name": "python",
   "nbconvert_exporter": "python",
   "pygments_lexer": "ipython3",
   "version": "3.11.1"
  },
  "orig_nbformat": 4
 },
 "nbformat": 4,
 "nbformat_minor": 2
}
